{
 "cells": [
  {
   "cell_type": "markdown",
   "id": "c6d4c9a7",
   "metadata": {
    "id": "8guYh-VR7nlX"
   },
   "source": [
    "# Part 2 - Mapping Yelp Search Results"
   ]
  },
  {
   "cell_type": "markdown",
   "id": "9be6e6c0",
   "metadata": {},
   "source": []
  },
  {
   "cell_type": "markdown",
   "id": "8f1dfbbf",
   "metadata": {},
   "source": [
    "## Obective"
   ]
  },
  {
   "cell_type": "markdown",
   "id": "37daea31",
   "metadata": {
    "id": "8guYh-VR7nlX"
   },
   "source": [
    "- For this CodeAlong, we will be working with the Yelp API results from last class. \n",
    "- You will load in the .csv.gz of your yelp results and prepare the data for visualization.\n",
    "- You will use Plotly Express to create an interactive map with all of the results."
   ]
  },
  {
   "cell_type": "markdown",
   "id": "0a02a2fd",
   "metadata": {
    "id": "8guYh-VR7nlX"
   },
   "source": [
    "## Tools You Will Use\n",
    "- Part 1:\n",
    "    - Yelp API:\n",
    "        - Getting Started: \n",
    "            - https://www.yelp.com/developers/documentation/v3/get_started\n",
    "\n",
    "    - `YelpAPI` python package\n",
    "        -  \"YelpAPI\": https://github.com/gfairchild/yelpapi\n",
    "- Part 2:\n",
    "\n",
    "    - Plotly Express: https://plotly.com/python/getting-started/\n",
    "        - With Mapbox API: https://www.mapbox.com/\n",
    "        - `px.scatter_mapbox` [Documentation](https://plotly.com/python/scattermapbox/): \n",
    "\n",
    "\n"
   ]
  },
  {
   "cell_type": "markdown",
   "id": "a3f15049",
   "metadata": {},
   "source": [
    "### Applying Code From\n",
    "- [Advanced Transformations with Pandas - Part 1](https://login.codingdojo.com/m/376/12529/88086)\n",
    "- [Advanced Transformations with Pandas - Part 2](https://login.codingdojo.com/m/376/12529/88088)"
   ]
  },
  {
   "cell_type": "markdown",
   "id": "745e757f",
   "metadata": {},
   "source": [
    "### Goal"
   ]
  },
  {
   "cell_type": "markdown",
   "id": "a27ea8f9",
   "metadata": {},
   "source": [
    "- We want to create a map with every restaurant plotted as a scatter plot with detailed information that appears when we hover over a business\n",
    "- We will use plotly express's `px.scatter_mapbox` function to accomplish this.\n",
    "    - https://plotly.com/python/scattermapbox/\n",
    "    \n",
    "    - We will need a Mapbox API token for some of the options:\n",
    "        - https://studio.mapbox.com/\n",
    "    "
   ]
  },
  {
   "cell_type": "markdown",
   "id": "8c50b2b6",
   "metadata": {},
   "source": [
    "# Loading Data from Part 1"
   ]
  },
  {
   "cell_type": "code",
   "execution_count": 1,
   "id": "ffa40ba8",
   "metadata": {},
   "outputs": [
    {
     "name": "stdout",
     "output_type": "stream",
     "text": [
      "Requirement already satisfied: plotly in c:\\users\\rdbha\\anaconda3\\envs\\dojo-env\\lib\\site-packages (5.8.2)\n",
      "Requirement already satisfied: tenacity>=6.2.0 in c:\\users\\rdbha\\anaconda3\\envs\\dojo-env\\lib\\site-packages (from plotly) (8.0.1)\n"
     ]
    }
   ],
   "source": [
    "## Plotly is not included in your dojo-env\n",
    "!pip install plotly"
   ]
  },
  {
   "cell_type": "code",
   "execution_count": 20,
   "id": "6c26b323",
   "metadata": {},
   "outputs": [],
   "source": [
    "# Standard Imports\n",
    "import numpy as np\n",
    "import pandas as pd\n",
    "import matplotlib.pyplot as plt\n",
    "import seaborn as sns\n",
    "\n",
    "import json\n",
    "\n",
    "## importing plotly \n",
    "import plotly.express as px"
   ]
  },
  {
   "cell_type": "code",
   "execution_count": 21,
   "id": "73f882e7",
   "metadata": {},
   "outputs": [
    {
     "data": {
      "text/html": [
       "<div>\n",
       "<style scoped>\n",
       "    .dataframe tbody tr th:only-of-type {\n",
       "        vertical-align: middle;\n",
       "    }\n",
       "\n",
       "    .dataframe tbody tr th {\n",
       "        vertical-align: top;\n",
       "    }\n",
       "\n",
       "    .dataframe thead th {\n",
       "        text-align: right;\n",
       "    }\n",
       "</style>\n",
       "<table border=\"1\" class=\"dataframe\">\n",
       "  <thead>\n",
       "    <tr style=\"text-align: right;\">\n",
       "      <th></th>\n",
       "      <th>id</th>\n",
       "      <th>alias</th>\n",
       "      <th>name</th>\n",
       "      <th>image_url</th>\n",
       "      <th>is_closed</th>\n",
       "      <th>url</th>\n",
       "      <th>review_count</th>\n",
       "      <th>categories</th>\n",
       "      <th>rating</th>\n",
       "      <th>coordinates</th>\n",
       "      <th>transactions</th>\n",
       "      <th>price</th>\n",
       "      <th>location</th>\n",
       "      <th>phone</th>\n",
       "      <th>display_phone</th>\n",
       "      <th>distance</th>\n",
       "    </tr>\n",
       "  </thead>\n",
       "  <tbody>\n",
       "    <tr>\n",
       "      <th>0</th>\n",
       "      <td>zG_XOAFi9Y560WJ1RvghBw</td>\n",
       "      <td>sushi-masa-japanese-restaurant-greenville</td>\n",
       "      <td>Sushi-Masa Japanese Restaurant</td>\n",
       "      <td>https://s3-media1.fl.yelpcdn.com/bphoto/zsRavZ...</td>\n",
       "      <td>False</td>\n",
       "      <td>https://www.yelp.com/biz/sushi-masa-japanese-r...</td>\n",
       "      <td>145</td>\n",
       "      <td>[{'alias': 'sushi', 'title': 'Sushi Bars'}]</td>\n",
       "      <td>4.5</td>\n",
       "      <td>{'latitude': 34.8512725830078, 'longitude': -8...</td>\n",
       "      <td>['delivery']</td>\n",
       "      <td>$$</td>\n",
       "      <td>{'address1': '8590 Pelham Rd', 'address2': 'St...</td>\n",
       "      <td>1.864288e+10</td>\n",
       "      <td>(864) 288-2227</td>\n",
       "      <td>11481.830881</td>\n",
       "    </tr>\n",
       "    <tr>\n",
       "      <th>1</th>\n",
       "      <td>RGRk1ioORwm_FIX8PM732Q</td>\n",
       "      <td>konnichiwa-greenville</td>\n",
       "      <td>Konnichiwa</td>\n",
       "      <td>https://s3-media3.fl.yelpcdn.com/bphoto/FU6pBh...</td>\n",
       "      <td>False</td>\n",
       "      <td>https://www.yelp.com/biz/konnichiwa-greenville...</td>\n",
       "      <td>17</td>\n",
       "      <td>[{'alias': 'sushi', 'title': 'Sushi Bars'}, {'...</td>\n",
       "      <td>4.0</td>\n",
       "      <td>{'latitude': 34.845952342825115, 'longitude': ...</td>\n",
       "      <td>[]</td>\n",
       "      <td>NaN</td>\n",
       "      <td>{'address1': '101 Falls Park Dr', 'address2': ...</td>\n",
       "      <td>1.864252e+10</td>\n",
       "      <td>(864) 252-4436</td>\n",
       "      <td>4184.255183</td>\n",
       "    </tr>\n",
       "    <tr>\n",
       "      <th>2</th>\n",
       "      <td>7cJxOV-ANX1qLThK3yV96w</td>\n",
       "      <td>otto-izakaya-greenville-4</td>\n",
       "      <td>Otto Izakaya</td>\n",
       "      <td>https://s3-media1.fl.yelpcdn.com/bphoto/TdPhFy...</td>\n",
       "      <td>False</td>\n",
       "      <td>https://www.yelp.com/biz/otto-izakaya-greenvil...</td>\n",
       "      <td>393</td>\n",
       "      <td>[{'alias': 'japanese', 'title': 'Japanese'}, {...</td>\n",
       "      <td>4.0</td>\n",
       "      <td>{'latitude': 34.8228218820722, 'longitude': -8...</td>\n",
       "      <td>['delivery']</td>\n",
       "      <td>$$</td>\n",
       "      <td>{'address1': '15 Market Point Dr', 'address2':...</td>\n",
       "      <td>1.864569e+10</td>\n",
       "      <td>(864) 568-8009</td>\n",
       "      <td>5933.485357</td>\n",
       "    </tr>\n",
       "    <tr>\n",
       "      <th>3</th>\n",
       "      <td>VU0mq_4iDCZ3w1pDcbGiuQ</td>\n",
       "      <td>love-sushi-greenville-4</td>\n",
       "      <td>Love Sushi</td>\n",
       "      <td>https://s3-media3.fl.yelpcdn.com/bphoto/zHiqdu...</td>\n",
       "      <td>False</td>\n",
       "      <td>https://www.yelp.com/biz/love-sushi-greenville...</td>\n",
       "      <td>14</td>\n",
       "      <td>[{'alias': 'japanese', 'title': 'Japanese'}]</td>\n",
       "      <td>5.0</td>\n",
       "      <td>{'latitude': 34.82095, 'longitude': -82.25788}</td>\n",
       "      <td>[]</td>\n",
       "      <td>NaN</td>\n",
       "      <td>{'address1': '2131 Woodruff Rd', 'address2': '...</td>\n",
       "      <td>1.864676e+10</td>\n",
       "      <td>(864) 675-6360</td>\n",
       "      <td>9540.226675</td>\n",
       "    </tr>\n",
       "    <tr>\n",
       "      <th>4</th>\n",
       "      <td>dvgaR-1sAfuHSi4_ZKXmwQ</td>\n",
       "      <td>sushi-murasaki-greenville</td>\n",
       "      <td>Sushi Murasaki</td>\n",
       "      <td>https://s3-media4.fl.yelpcdn.com/bphoto/sKCCZu...</td>\n",
       "      <td>False</td>\n",
       "      <td>https://www.yelp.com/biz/sushi-murasaki-greenv...</td>\n",
       "      <td>207</td>\n",
       "      <td>[{'alias': 'sushi', 'title': 'Sushi Bars'}, {'...</td>\n",
       "      <td>3.5</td>\n",
       "      <td>{'latitude': 34.8506663, 'longitude': -82.3992...</td>\n",
       "      <td>['pickup', 'delivery']</td>\n",
       "      <td>$$</td>\n",
       "      <td>{'address1': '2 S Main St', 'address2': '', 'a...</td>\n",
       "      <td>1.864271e+10</td>\n",
       "      <td>(864) 271-2452</td>\n",
       "      <td>3808.715842</td>\n",
       "    </tr>\n",
       "    <tr>\n",
       "      <th>...</th>\n",
       "      <td>...</td>\n",
       "      <td>...</td>\n",
       "      <td>...</td>\n",
       "      <td>...</td>\n",
       "      <td>...</td>\n",
       "      <td>...</td>\n",
       "      <td>...</td>\n",
       "      <td>...</td>\n",
       "      <td>...</td>\n",
       "      <td>...</td>\n",
       "      <td>...</td>\n",
       "      <td>...</td>\n",
       "      <td>...</td>\n",
       "      <td>...</td>\n",
       "      <td>...</td>\n",
       "      <td>...</td>\n",
       "    </tr>\n",
       "    <tr>\n",
       "      <th>94</th>\n",
       "      <td>xQZIvcjkH2R14yaHr2qQYQ</td>\n",
       "      <td>the-cheesecake-factory-greenville-greenville</td>\n",
       "      <td>The Cheesecake Factory - Greenville</td>\n",
       "      <td>https://s3-media2.fl.yelpcdn.com/bphoto/SUrPQg...</td>\n",
       "      <td>False</td>\n",
       "      <td>https://www.yelp.com/biz/the-cheesecake-factor...</td>\n",
       "      <td>400</td>\n",
       "      <td>[{'alias': 'desserts', 'title': 'Desserts'}, {...</td>\n",
       "      <td>3.0</td>\n",
       "      <td>{'latitude': 34.8499166, 'longitude': -82.3335...</td>\n",
       "      <td>['delivery', 'restaurant_reservation']</td>\n",
       "      <td>$$</td>\n",
       "      <td>{'address1': '700 Haywood Mall', 'address2': '...</td>\n",
       "      <td>1.864288e+10</td>\n",
       "      <td>(864) 288-4444</td>\n",
       "      <td>2209.333296</td>\n",
       "    </tr>\n",
       "    <tr>\n",
       "      <th>95</th>\n",
       "      <td>gUsB3gAE413Ezd3P6IxlmA</td>\n",
       "      <td>7-eleven-piedmont</td>\n",
       "      <td>7-Eleven</td>\n",
       "      <td>NaN</td>\n",
       "      <td>False</td>\n",
       "      <td>https://www.yelp.com/biz/7-eleven-piedmont?adj...</td>\n",
       "      <td>5</td>\n",
       "      <td>[{'alias': 'servicestations', 'title': 'Gas St...</td>\n",
       "      <td>2.0</td>\n",
       "      <td>{'latitude': 34.6970574719195, 'longitude': -8...</td>\n",
       "      <td>['delivery', 'pickup']</td>\n",
       "      <td>$</td>\n",
       "      <td>{'address1': '7803 Augusta Rd', 'address2': ''...</td>\n",
       "      <td>1.864277e+10</td>\n",
       "      <td>(864) 277-2316</td>\n",
       "      <td>17107.266905</td>\n",
       "    </tr>\n",
       "    <tr>\n",
       "      <th>96</th>\n",
       "      <td>_Ptzoh-8-8vJT_OF7t9TLQ</td>\n",
       "      <td>sprouts-farmers-market-simpsonville</td>\n",
       "      <td>Sprouts Farmers Market</td>\n",
       "      <td>https://s3-media3.fl.yelpcdn.com/bphoto/C1Xlae...</td>\n",
       "      <td>False</td>\n",
       "      <td>https://www.yelp.com/biz/sprouts-farmers-marke...</td>\n",
       "      <td>31</td>\n",
       "      <td>[{'alias': 'healthmarkets', 'title': 'Health M...</td>\n",
       "      <td>4.0</td>\n",
       "      <td>{'latitude': 34.8186242, 'longitude': -82.255452}</td>\n",
       "      <td>[]</td>\n",
       "      <td>NaN</td>\n",
       "      <td>{'address1': '2200 Woodruff Rd', 'address2': '...</td>\n",
       "      <td>1.864757e+10</td>\n",
       "      <td>(864) 757-3240</td>\n",
       "      <td>9866.418853</td>\n",
       "    </tr>\n",
       "    <tr>\n",
       "      <th>97</th>\n",
       "      <td>Ld7D2rUr627TNkoIdRkXwQ</td>\n",
       "      <td>lowes-foods-greenville-2</td>\n",
       "      <td>Lowes Foods</td>\n",
       "      <td>https://s3-media3.fl.yelpcdn.com/bphoto/3h-jGP...</td>\n",
       "      <td>False</td>\n",
       "      <td>https://www.yelp.com/biz/lowes-foods-greenvill...</td>\n",
       "      <td>5</td>\n",
       "      <td>[{'alias': 'grocery', 'title': 'Grocery'}]</td>\n",
       "      <td>3.0</td>\n",
       "      <td>{'latitude': 34.86149155901255, 'longitude': -...</td>\n",
       "      <td>[]</td>\n",
       "      <td>NaN</td>\n",
       "      <td>{'address1': '3619 Pelham Rd', 'address2': '',...</td>\n",
       "      <td>1.864288e+10</td>\n",
       "      <td>(864) 288-4162</td>\n",
       "      <td>8304.264308</td>\n",
       "    </tr>\n",
       "    <tr>\n",
       "      <th>98</th>\n",
       "      <td>xb9QSdbk63Ani2-S5MrIHQ</td>\n",
       "      <td>harris-teeter-greenville-6</td>\n",
       "      <td>Harris Teeter</td>\n",
       "      <td>https://s3-media3.fl.yelpcdn.com/bphoto/ZelRSg...</td>\n",
       "      <td>False</td>\n",
       "      <td>https://www.yelp.com/biz/harris-teeter-greenvi...</td>\n",
       "      <td>24</td>\n",
       "      <td>[{'alias': 'grocery', 'title': 'Grocery'}, {'a...</td>\n",
       "      <td>3.5</td>\n",
       "      <td>{'latitude': 34.8279736, 'longitude': -82.3987...</td>\n",
       "      <td>[]</td>\n",
       "      <td>$$</td>\n",
       "      <td>{'address1': '1720 Augusta St', 'address2': ''...</td>\n",
       "      <td>1.864978e+10</td>\n",
       "      <td>(864) 977-8041</td>\n",
       "      <td>4335.688854</td>\n",
       "    </tr>\n",
       "  </tbody>\n",
       "</table>\n",
       "<p>99 rows × 16 columns</p>\n",
       "</div>"
      ],
      "text/plain": [
       "                        id                                         alias  \\\n",
       "0   zG_XOAFi9Y560WJ1RvghBw     sushi-masa-japanese-restaurant-greenville   \n",
       "1   RGRk1ioORwm_FIX8PM732Q                         konnichiwa-greenville   \n",
       "2   7cJxOV-ANX1qLThK3yV96w                     otto-izakaya-greenville-4   \n",
       "3   VU0mq_4iDCZ3w1pDcbGiuQ                       love-sushi-greenville-4   \n",
       "4   dvgaR-1sAfuHSi4_ZKXmwQ                     sushi-murasaki-greenville   \n",
       "..                     ...                                           ...   \n",
       "94  xQZIvcjkH2R14yaHr2qQYQ  the-cheesecake-factory-greenville-greenville   \n",
       "95  gUsB3gAE413Ezd3P6IxlmA                             7-eleven-piedmont   \n",
       "96  _Ptzoh-8-8vJT_OF7t9TLQ           sprouts-farmers-market-simpsonville   \n",
       "97  Ld7D2rUr627TNkoIdRkXwQ                      lowes-foods-greenville-2   \n",
       "98  xb9QSdbk63Ani2-S5MrIHQ                    harris-teeter-greenville-6   \n",
       "\n",
       "                                   name  \\\n",
       "0        Sushi-Masa Japanese Restaurant   \n",
       "1                            Konnichiwa   \n",
       "2                          Otto Izakaya   \n",
       "3                            Love Sushi   \n",
       "4                        Sushi Murasaki   \n",
       "..                                  ...   \n",
       "94  The Cheesecake Factory - Greenville   \n",
       "95                             7-Eleven   \n",
       "96               Sprouts Farmers Market   \n",
       "97                          Lowes Foods   \n",
       "98                        Harris Teeter   \n",
       "\n",
       "                                            image_url  is_closed  \\\n",
       "0   https://s3-media1.fl.yelpcdn.com/bphoto/zsRavZ...      False   \n",
       "1   https://s3-media3.fl.yelpcdn.com/bphoto/FU6pBh...      False   \n",
       "2   https://s3-media1.fl.yelpcdn.com/bphoto/TdPhFy...      False   \n",
       "3   https://s3-media3.fl.yelpcdn.com/bphoto/zHiqdu...      False   \n",
       "4   https://s3-media4.fl.yelpcdn.com/bphoto/sKCCZu...      False   \n",
       "..                                                ...        ...   \n",
       "94  https://s3-media2.fl.yelpcdn.com/bphoto/SUrPQg...      False   \n",
       "95                                                NaN      False   \n",
       "96  https://s3-media3.fl.yelpcdn.com/bphoto/C1Xlae...      False   \n",
       "97  https://s3-media3.fl.yelpcdn.com/bphoto/3h-jGP...      False   \n",
       "98  https://s3-media3.fl.yelpcdn.com/bphoto/ZelRSg...      False   \n",
       "\n",
       "                                                  url  review_count  \\\n",
       "0   https://www.yelp.com/biz/sushi-masa-japanese-r...           145   \n",
       "1   https://www.yelp.com/biz/konnichiwa-greenville...            17   \n",
       "2   https://www.yelp.com/biz/otto-izakaya-greenvil...           393   \n",
       "3   https://www.yelp.com/biz/love-sushi-greenville...            14   \n",
       "4   https://www.yelp.com/biz/sushi-murasaki-greenv...           207   \n",
       "..                                                ...           ...   \n",
       "94  https://www.yelp.com/biz/the-cheesecake-factor...           400   \n",
       "95  https://www.yelp.com/biz/7-eleven-piedmont?adj...             5   \n",
       "96  https://www.yelp.com/biz/sprouts-farmers-marke...            31   \n",
       "97  https://www.yelp.com/biz/lowes-foods-greenvill...             5   \n",
       "98  https://www.yelp.com/biz/harris-teeter-greenvi...            24   \n",
       "\n",
       "                                           categories  rating  \\\n",
       "0         [{'alias': 'sushi', 'title': 'Sushi Bars'}]     4.5   \n",
       "1   [{'alias': 'sushi', 'title': 'Sushi Bars'}, {'...     4.0   \n",
       "2   [{'alias': 'japanese', 'title': 'Japanese'}, {...     4.0   \n",
       "3        [{'alias': 'japanese', 'title': 'Japanese'}]     5.0   \n",
       "4   [{'alias': 'sushi', 'title': 'Sushi Bars'}, {'...     3.5   \n",
       "..                                                ...     ...   \n",
       "94  [{'alias': 'desserts', 'title': 'Desserts'}, {...     3.0   \n",
       "95  [{'alias': 'servicestations', 'title': 'Gas St...     2.0   \n",
       "96  [{'alias': 'healthmarkets', 'title': 'Health M...     4.0   \n",
       "97         [{'alias': 'grocery', 'title': 'Grocery'}]     3.0   \n",
       "98  [{'alias': 'grocery', 'title': 'Grocery'}, {'a...     3.5   \n",
       "\n",
       "                                          coordinates  \\\n",
       "0   {'latitude': 34.8512725830078, 'longitude': -8...   \n",
       "1   {'latitude': 34.845952342825115, 'longitude': ...   \n",
       "2   {'latitude': 34.8228218820722, 'longitude': -8...   \n",
       "3      {'latitude': 34.82095, 'longitude': -82.25788}   \n",
       "4   {'latitude': 34.8506663, 'longitude': -82.3992...   \n",
       "..                                                ...   \n",
       "94  {'latitude': 34.8499166, 'longitude': -82.3335...   \n",
       "95  {'latitude': 34.6970574719195, 'longitude': -8...   \n",
       "96  {'latitude': 34.8186242, 'longitude': -82.255452}   \n",
       "97  {'latitude': 34.86149155901255, 'longitude': -...   \n",
       "98  {'latitude': 34.8279736, 'longitude': -82.3987...   \n",
       "\n",
       "                              transactions price  \\\n",
       "0                             ['delivery']    $$   \n",
       "1                                       []   NaN   \n",
       "2                             ['delivery']    $$   \n",
       "3                                       []   NaN   \n",
       "4                   ['pickup', 'delivery']    $$   \n",
       "..                                     ...   ...   \n",
       "94  ['delivery', 'restaurant_reservation']    $$   \n",
       "95                  ['delivery', 'pickup']     $   \n",
       "96                                      []   NaN   \n",
       "97                                      []   NaN   \n",
       "98                                      []    $$   \n",
       "\n",
       "                                             location         phone  \\\n",
       "0   {'address1': '8590 Pelham Rd', 'address2': 'St...  1.864288e+10   \n",
       "1   {'address1': '101 Falls Park Dr', 'address2': ...  1.864252e+10   \n",
       "2   {'address1': '15 Market Point Dr', 'address2':...  1.864569e+10   \n",
       "3   {'address1': '2131 Woodruff Rd', 'address2': '...  1.864676e+10   \n",
       "4   {'address1': '2 S Main St', 'address2': '', 'a...  1.864271e+10   \n",
       "..                                                ...           ...   \n",
       "94  {'address1': '700 Haywood Mall', 'address2': '...  1.864288e+10   \n",
       "95  {'address1': '7803 Augusta Rd', 'address2': ''...  1.864277e+10   \n",
       "96  {'address1': '2200 Woodruff Rd', 'address2': '...  1.864757e+10   \n",
       "97  {'address1': '3619 Pelham Rd', 'address2': '',...  1.864288e+10   \n",
       "98  {'address1': '1720 Augusta St', 'address2': ''...  1.864978e+10   \n",
       "\n",
       "     display_phone      distance  \n",
       "0   (864) 288-2227  11481.830881  \n",
       "1   (864) 252-4436   4184.255183  \n",
       "2   (864) 568-8009   5933.485357  \n",
       "3   (864) 675-6360   9540.226675  \n",
       "4   (864) 271-2452   3808.715842  \n",
       "..             ...           ...  \n",
       "94  (864) 288-4444   2209.333296  \n",
       "95  (864) 277-2316  17107.266905  \n",
       "96  (864) 757-3240   9866.418853  \n",
       "97  (864) 288-4162   8304.264308  \n",
       "98  (864) 977-8041   4335.688854  \n",
       "\n",
       "[99 rows x 16 columns]"
      ]
     },
     "execution_count": 21,
     "metadata": {},
     "output_type": "execute_result"
    }
   ],
   "source": [
    "## Load in csv.gz\n",
    "df = pd.read_csv('Data/final_results_sushi.csv.gz')\n",
    "df"
   ]
  },
  {
   "cell_type": "code",
   "execution_count": 5,
   "id": "61880b62",
   "metadata": {},
   "outputs": [
    {
     "data": {
      "text/html": [
       "<div>\n",
       "<style scoped>\n",
       "    .dataframe tbody tr th:only-of-type {\n",
       "        vertical-align: middle;\n",
       "    }\n",
       "\n",
       "    .dataframe tbody tr th {\n",
       "        vertical-align: top;\n",
       "    }\n",
       "\n",
       "    .dataframe thead th {\n",
       "        text-align: right;\n",
       "    }\n",
       "</style>\n",
       "<table border=\"1\" class=\"dataframe\">\n",
       "  <thead>\n",
       "    <tr style=\"text-align: right;\">\n",
       "      <th></th>\n",
       "      <th>id</th>\n",
       "      <th>alias</th>\n",
       "      <th>name</th>\n",
       "      <th>image_url</th>\n",
       "      <th>is_closed</th>\n",
       "      <th>url</th>\n",
       "      <th>review_count</th>\n",
       "      <th>categories</th>\n",
       "      <th>rating</th>\n",
       "      <th>coordinates</th>\n",
       "      <th>transactions</th>\n",
       "      <th>price</th>\n",
       "      <th>location</th>\n",
       "      <th>phone</th>\n",
       "      <th>display_phone</th>\n",
       "      <th>distance</th>\n",
       "    </tr>\n",
       "  </thead>\n",
       "  <tbody>\n",
       "    <tr>\n",
       "      <th>0</th>\n",
       "      <td>zG_XOAFi9Y560WJ1RvghBw</td>\n",
       "      <td>sushi-masa-japanese-restaurant-greenville</td>\n",
       "      <td>Sushi-Masa Japanese Restaurant</td>\n",
       "      <td>https://s3-media1.fl.yelpcdn.com/bphoto/zsRavZ...</td>\n",
       "      <td>False</td>\n",
       "      <td>https://www.yelp.com/biz/sushi-masa-japanese-r...</td>\n",
       "      <td>145</td>\n",
       "      <td>[{'alias': 'sushi', 'title': 'Sushi Bars'}]</td>\n",
       "      <td>4.5</td>\n",
       "      <td>{'latitude': 34.8512725830078, 'longitude': -8...</td>\n",
       "      <td>['delivery']</td>\n",
       "      <td>$$</td>\n",
       "      <td>{'address1': '8590 Pelham Rd', 'address2': 'St...</td>\n",
       "      <td>1.864288e+10</td>\n",
       "      <td>(864) 288-2227</td>\n",
       "      <td>11481.830881</td>\n",
       "    </tr>\n",
       "    <tr>\n",
       "      <th>1</th>\n",
       "      <td>RGRk1ioORwm_FIX8PM732Q</td>\n",
       "      <td>konnichiwa-greenville</td>\n",
       "      <td>Konnichiwa</td>\n",
       "      <td>https://s3-media3.fl.yelpcdn.com/bphoto/FU6pBh...</td>\n",
       "      <td>False</td>\n",
       "      <td>https://www.yelp.com/biz/konnichiwa-greenville...</td>\n",
       "      <td>17</td>\n",
       "      <td>[{'alias': 'sushi', 'title': 'Sushi Bars'}, {'...</td>\n",
       "      <td>4.0</td>\n",
       "      <td>{'latitude': 34.845952342825115, 'longitude': ...</td>\n",
       "      <td>[]</td>\n",
       "      <td>NaN</td>\n",
       "      <td>{'address1': '101 Falls Park Dr', 'address2': ...</td>\n",
       "      <td>1.864252e+10</td>\n",
       "      <td>(864) 252-4436</td>\n",
       "      <td>4184.255183</td>\n",
       "    </tr>\n",
       "    <tr>\n",
       "      <th>2</th>\n",
       "      <td>7cJxOV-ANX1qLThK3yV96w</td>\n",
       "      <td>otto-izakaya-greenville-4</td>\n",
       "      <td>Otto Izakaya</td>\n",
       "      <td>https://s3-media1.fl.yelpcdn.com/bphoto/TdPhFy...</td>\n",
       "      <td>False</td>\n",
       "      <td>https://www.yelp.com/biz/otto-izakaya-greenvil...</td>\n",
       "      <td>393</td>\n",
       "      <td>[{'alias': 'japanese', 'title': 'Japanese'}, {...</td>\n",
       "      <td>4.0</td>\n",
       "      <td>{'latitude': 34.8228218820722, 'longitude': -8...</td>\n",
       "      <td>['delivery']</td>\n",
       "      <td>$$</td>\n",
       "      <td>{'address1': '15 Market Point Dr', 'address2':...</td>\n",
       "      <td>1.864569e+10</td>\n",
       "      <td>(864) 568-8009</td>\n",
       "      <td>5933.485357</td>\n",
       "    </tr>\n",
       "    <tr>\n",
       "      <th>3</th>\n",
       "      <td>VU0mq_4iDCZ3w1pDcbGiuQ</td>\n",
       "      <td>love-sushi-greenville-4</td>\n",
       "      <td>Love Sushi</td>\n",
       "      <td>https://s3-media3.fl.yelpcdn.com/bphoto/zHiqdu...</td>\n",
       "      <td>False</td>\n",
       "      <td>https://www.yelp.com/biz/love-sushi-greenville...</td>\n",
       "      <td>14</td>\n",
       "      <td>[{'alias': 'japanese', 'title': 'Japanese'}]</td>\n",
       "      <td>5.0</td>\n",
       "      <td>{'latitude': 34.82095, 'longitude': -82.25788}</td>\n",
       "      <td>[]</td>\n",
       "      <td>NaN</td>\n",
       "      <td>{'address1': '2131 Woodruff Rd', 'address2': '...</td>\n",
       "      <td>1.864676e+10</td>\n",
       "      <td>(864) 675-6360</td>\n",
       "      <td>9540.226675</td>\n",
       "    </tr>\n",
       "    <tr>\n",
       "      <th>4</th>\n",
       "      <td>dvgaR-1sAfuHSi4_ZKXmwQ</td>\n",
       "      <td>sushi-murasaki-greenville</td>\n",
       "      <td>Sushi Murasaki</td>\n",
       "      <td>https://s3-media4.fl.yelpcdn.com/bphoto/sKCCZu...</td>\n",
       "      <td>False</td>\n",
       "      <td>https://www.yelp.com/biz/sushi-murasaki-greenv...</td>\n",
       "      <td>207</td>\n",
       "      <td>[{'alias': 'sushi', 'title': 'Sushi Bars'}, {'...</td>\n",
       "      <td>3.5</td>\n",
       "      <td>{'latitude': 34.8506663, 'longitude': -82.3992...</td>\n",
       "      <td>['pickup', 'delivery']</td>\n",
       "      <td>$$</td>\n",
       "      <td>{'address1': '2 S Main St', 'address2': '', 'a...</td>\n",
       "      <td>1.864271e+10</td>\n",
       "      <td>(864) 271-2452</td>\n",
       "      <td>3808.715842</td>\n",
       "    </tr>\n",
       "  </tbody>\n",
       "</table>\n",
       "</div>"
      ],
      "text/plain": [
       "                       id                                      alias  \\\n",
       "0  zG_XOAFi9Y560WJ1RvghBw  sushi-masa-japanese-restaurant-greenville   \n",
       "1  RGRk1ioORwm_FIX8PM732Q                      konnichiwa-greenville   \n",
       "2  7cJxOV-ANX1qLThK3yV96w                  otto-izakaya-greenville-4   \n",
       "3  VU0mq_4iDCZ3w1pDcbGiuQ                    love-sushi-greenville-4   \n",
       "4  dvgaR-1sAfuHSi4_ZKXmwQ                  sushi-murasaki-greenville   \n",
       "\n",
       "                             name  \\\n",
       "0  Sushi-Masa Japanese Restaurant   \n",
       "1                      Konnichiwa   \n",
       "2                    Otto Izakaya   \n",
       "3                      Love Sushi   \n",
       "4                  Sushi Murasaki   \n",
       "\n",
       "                                           image_url  is_closed  \\\n",
       "0  https://s3-media1.fl.yelpcdn.com/bphoto/zsRavZ...      False   \n",
       "1  https://s3-media3.fl.yelpcdn.com/bphoto/FU6pBh...      False   \n",
       "2  https://s3-media1.fl.yelpcdn.com/bphoto/TdPhFy...      False   \n",
       "3  https://s3-media3.fl.yelpcdn.com/bphoto/zHiqdu...      False   \n",
       "4  https://s3-media4.fl.yelpcdn.com/bphoto/sKCCZu...      False   \n",
       "\n",
       "                                                 url  review_count  \\\n",
       "0  https://www.yelp.com/biz/sushi-masa-japanese-r...           145   \n",
       "1  https://www.yelp.com/biz/konnichiwa-greenville...            17   \n",
       "2  https://www.yelp.com/biz/otto-izakaya-greenvil...           393   \n",
       "3  https://www.yelp.com/biz/love-sushi-greenville...            14   \n",
       "4  https://www.yelp.com/biz/sushi-murasaki-greenv...           207   \n",
       "\n",
       "                                          categories  rating  \\\n",
       "0        [{'alias': 'sushi', 'title': 'Sushi Bars'}]     4.5   \n",
       "1  [{'alias': 'sushi', 'title': 'Sushi Bars'}, {'...     4.0   \n",
       "2  [{'alias': 'japanese', 'title': 'Japanese'}, {...     4.0   \n",
       "3       [{'alias': 'japanese', 'title': 'Japanese'}]     5.0   \n",
       "4  [{'alias': 'sushi', 'title': 'Sushi Bars'}, {'...     3.5   \n",
       "\n",
       "                                         coordinates            transactions  \\\n",
       "0  {'latitude': 34.8512725830078, 'longitude': -8...            ['delivery']   \n",
       "1  {'latitude': 34.845952342825115, 'longitude': ...                      []   \n",
       "2  {'latitude': 34.8228218820722, 'longitude': -8...            ['delivery']   \n",
       "3     {'latitude': 34.82095, 'longitude': -82.25788}                      []   \n",
       "4  {'latitude': 34.8506663, 'longitude': -82.3992...  ['pickup', 'delivery']   \n",
       "\n",
       "  price                                           location         phone  \\\n",
       "0    $$  {'address1': '8590 Pelham Rd', 'address2': 'St...  1.864288e+10   \n",
       "1   NaN  {'address1': '101 Falls Park Dr', 'address2': ...  1.864252e+10   \n",
       "2    $$  {'address1': '15 Market Point Dr', 'address2':...  1.864569e+10   \n",
       "3   NaN  {'address1': '2131 Woodruff Rd', 'address2': '...  1.864676e+10   \n",
       "4    $$  {'address1': '2 S Main St', 'address2': '', 'a...  1.864271e+10   \n",
       "\n",
       "    display_phone      distance  \n",
       "0  (864) 288-2227  11481.830881  \n",
       "1  (864) 252-4436   4184.255183  \n",
       "2  (864) 568-8009   5933.485357  \n",
       "3  (864) 675-6360   9540.226675  \n",
       "4  (864) 271-2452   3808.715842  "
      ]
     },
     "execution_count": 5,
     "metadata": {},
     "output_type": "execute_result"
    }
   ],
   "source": [
    "df.head()"
   ]
  },
  {
   "cell_type": "markdown",
   "id": "182d9a50",
   "metadata": {},
   "source": [
    "## Required Preprocessing "
   ]
  },
  {
   "cell_type": "markdown",
   "id": "9db8a265",
   "metadata": {},
   "source": [
    "- 1. We need to get the latitude and longitude for each business as separate columns.\n",
    "- We also want to be able to show the restaurants:\n",
    "    - name,\n",
    "    - price range\n",
    "    - address\n",
    "    - and if they do delivery or takeout."
   ]
  },
  {
   "cell_type": "markdown",
   "id": "13d541ac",
   "metadata": {},
   "source": [
    "### Separating Latitude and Longitude"
   ]
  },
  {
   "cell_type": "code",
   "execution_count": 6,
   "id": "825c85f0",
   "metadata": {},
   "outputs": [
    {
     "data": {
      "text/html": [
       "<div>\n",
       "<style scoped>\n",
       "    .dataframe tbody tr th:only-of-type {\n",
       "        vertical-align: middle;\n",
       "    }\n",
       "\n",
       "    .dataframe tbody tr th {\n",
       "        vertical-align: top;\n",
       "    }\n",
       "\n",
       "    .dataframe thead th {\n",
       "        text-align: right;\n",
       "    }\n",
       "</style>\n",
       "<table border=\"1\" class=\"dataframe\">\n",
       "  <thead>\n",
       "    <tr style=\"text-align: right;\">\n",
       "      <th></th>\n",
       "      <th>0</th>\n",
       "    </tr>\n",
       "  </thead>\n",
       "  <tbody>\n",
       "    <tr>\n",
       "      <th>0</th>\n",
       "      <td>{'latitude': 34.8512725830078, 'longitude': -8...</td>\n",
       "    </tr>\n",
       "    <tr>\n",
       "      <th>1</th>\n",
       "      <td>{'latitude': 34.845952342825115, 'longitude': ...</td>\n",
       "    </tr>\n",
       "    <tr>\n",
       "      <th>2</th>\n",
       "      <td>{'latitude': 34.8228218820722, 'longitude': -8...</td>\n",
       "    </tr>\n",
       "    <tr>\n",
       "      <th>3</th>\n",
       "      <td>{'latitude': 34.82095, 'longitude': -82.25788}</td>\n",
       "    </tr>\n",
       "    <tr>\n",
       "      <th>4</th>\n",
       "      <td>{'latitude': 34.8506663, 'longitude': -82.3992...</td>\n",
       "    </tr>\n",
       "    <tr>\n",
       "      <th>...</th>\n",
       "      <td>...</td>\n",
       "    </tr>\n",
       "    <tr>\n",
       "      <th>94</th>\n",
       "      <td>{'latitude': 34.8499166, 'longitude': -82.3335...</td>\n",
       "    </tr>\n",
       "    <tr>\n",
       "      <th>95</th>\n",
       "      <td>{'latitude': 34.6970574719195, 'longitude': -8...</td>\n",
       "    </tr>\n",
       "    <tr>\n",
       "      <th>96</th>\n",
       "      <td>{'latitude': 34.8186242, 'longitude': -82.255452}</td>\n",
       "    </tr>\n",
       "    <tr>\n",
       "      <th>97</th>\n",
       "      <td>{'latitude': 34.86149155901255, 'longitude': -...</td>\n",
       "    </tr>\n",
       "    <tr>\n",
       "      <th>98</th>\n",
       "      <td>{'latitude': 34.8279736, 'longitude': -82.3987...</td>\n",
       "    </tr>\n",
       "  </tbody>\n",
       "</table>\n",
       "<p>99 rows × 1 columns</p>\n",
       "</div>"
      ],
      "text/plain": [
       "                                                    0\n",
       "0   {'latitude': 34.8512725830078, 'longitude': -8...\n",
       "1   {'latitude': 34.845952342825115, 'longitude': ...\n",
       "2   {'latitude': 34.8228218820722, 'longitude': -8...\n",
       "3      {'latitude': 34.82095, 'longitude': -82.25788}\n",
       "4   {'latitude': 34.8506663, 'longitude': -82.3992...\n",
       "..                                                ...\n",
       "94  {'latitude': 34.8499166, 'longitude': -82.3335...\n",
       "95  {'latitude': 34.6970574719195, 'longitude': -8...\n",
       "96  {'latitude': 34.8186242, 'longitude': -82.255452}\n",
       "97  {'latitude': 34.86149155901255, 'longitude': -...\n",
       "98  {'latitude': 34.8279736, 'longitude': -82.3987...\n",
       "\n",
       "[99 rows x 1 columns]"
      ]
     },
     "execution_count": 6,
     "metadata": {},
     "output_type": "execute_result"
    }
   ],
   "source": [
    "## use .apply pd.Series to convert a dict to columns\n",
    "df['coordinates'].apply(pd.Series)"
   ]
  },
  {
   "cell_type": "markdown",
   "id": "faecca22",
   "metadata": {},
   "source": [
    "- Why didn't that work???"
   ]
  },
  {
   "cell_type": "code",
   "execution_count": 8,
   "id": "4c52b779",
   "metadata": {},
   "outputs": [
    {
     "data": {
      "text/plain": [
       "\"{'latitude': 34.8228218820722, 'longitude': -82.3000437297499}\""
      ]
     },
     "execution_count": 8,
     "metadata": {},
     "output_type": "execute_result"
    }
   ],
   "source": [
    "## slice out a single test coordinate\n",
    "test_coord = df.loc[2,'coordinates']\n",
    "test_coord"
   ]
  },
  {
   "cell_type": "markdown",
   "id": "819d8252",
   "metadata": {},
   "source": [
    "- Its not a dictionary anymore!!! WTF??\n",
    "    - CSV files cant store iterables (lists, dictionaries) so they get converted to strings."
   ]
  },
  {
   "cell_type": "markdown",
   "id": "df7e7c71",
   "metadata": {},
   "source": [
    "### Fixing the String-Dictionaries"
   ]
  },
  {
   "cell_type": "markdown",
   "id": "76185b76",
   "metadata": {},
   "source": [
    "- The json module has another version of load and dump called `json.loads` and `json.dumps`\n",
    "    - These are designed to process STRINGS instead of files. \n",
    "    \n",
    "- If we use `json.loads` we can convert our string dictionary into an actual dictionary. "
   ]
  },
  {
   "cell_type": "code",
   "execution_count": 9,
   "id": "8e4ab9ed",
   "metadata": {},
   "outputs": [
    {
     "ename": "JSONDecodeError",
     "evalue": "Expecting property name enclosed in double quotes: line 1 column 2 (char 1)",
     "output_type": "error",
     "traceback": [
      "\u001b[1;31m---------------------------------------------------------------------------\u001b[0m",
      "\u001b[1;31mJSONDecodeError\u001b[0m                           Traceback (most recent call last)",
      "Input \u001b[1;32mIn [9]\u001b[0m, in \u001b[0;36m<cell line: 2>\u001b[1;34m()\u001b[0m\n\u001b[0;32m      1\u001b[0m \u001b[38;5;66;03m## Use json.loads on the test coordinate\u001b[39;00m\n\u001b[1;32m----> 2\u001b[0m \u001b[43mjson\u001b[49m\u001b[38;5;241;43m.\u001b[39;49m\u001b[43mloads\u001b[49m\u001b[43m(\u001b[49m\u001b[43mtest_coord\u001b[49m\u001b[43m)\u001b[49m\n",
      "File \u001b[1;32m~\\anaconda3\\envs\\dojo-env\\lib\\json\\__init__.py:357\u001b[0m, in \u001b[0;36mloads\u001b[1;34m(s, cls, object_hook, parse_float, parse_int, parse_constant, object_pairs_hook, **kw)\u001b[0m\n\u001b[0;32m    352\u001b[0m     \u001b[38;5;28;01mdel\u001b[39;00m kw[\u001b[38;5;124m'\u001b[39m\u001b[38;5;124mencoding\u001b[39m\u001b[38;5;124m'\u001b[39m]\n\u001b[0;32m    354\u001b[0m \u001b[38;5;28;01mif\u001b[39;00m (\u001b[38;5;28mcls\u001b[39m \u001b[38;5;129;01mis\u001b[39;00m \u001b[38;5;28;01mNone\u001b[39;00m \u001b[38;5;129;01mand\u001b[39;00m object_hook \u001b[38;5;129;01mis\u001b[39;00m \u001b[38;5;28;01mNone\u001b[39;00m \u001b[38;5;129;01mand\u001b[39;00m\n\u001b[0;32m    355\u001b[0m         parse_int \u001b[38;5;129;01mis\u001b[39;00m \u001b[38;5;28;01mNone\u001b[39;00m \u001b[38;5;129;01mand\u001b[39;00m parse_float \u001b[38;5;129;01mis\u001b[39;00m \u001b[38;5;28;01mNone\u001b[39;00m \u001b[38;5;129;01mand\u001b[39;00m\n\u001b[0;32m    356\u001b[0m         parse_constant \u001b[38;5;129;01mis\u001b[39;00m \u001b[38;5;28;01mNone\u001b[39;00m \u001b[38;5;129;01mand\u001b[39;00m object_pairs_hook \u001b[38;5;129;01mis\u001b[39;00m \u001b[38;5;28;01mNone\u001b[39;00m \u001b[38;5;129;01mand\u001b[39;00m \u001b[38;5;129;01mnot\u001b[39;00m kw):\n\u001b[1;32m--> 357\u001b[0m     \u001b[38;5;28;01mreturn\u001b[39;00m \u001b[43m_default_decoder\u001b[49m\u001b[38;5;241;43m.\u001b[39;49m\u001b[43mdecode\u001b[49m\u001b[43m(\u001b[49m\u001b[43ms\u001b[49m\u001b[43m)\u001b[49m\n\u001b[0;32m    358\u001b[0m \u001b[38;5;28;01mif\u001b[39;00m \u001b[38;5;28mcls\u001b[39m \u001b[38;5;129;01mis\u001b[39;00m \u001b[38;5;28;01mNone\u001b[39;00m:\n\u001b[0;32m    359\u001b[0m     \u001b[38;5;28mcls\u001b[39m \u001b[38;5;241m=\u001b[39m JSONDecoder\n",
      "File \u001b[1;32m~\\anaconda3\\envs\\dojo-env\\lib\\json\\decoder.py:337\u001b[0m, in \u001b[0;36mJSONDecoder.decode\u001b[1;34m(self, s, _w)\u001b[0m\n\u001b[0;32m    332\u001b[0m \u001b[38;5;28;01mdef\u001b[39;00m \u001b[38;5;21mdecode\u001b[39m(\u001b[38;5;28mself\u001b[39m, s, _w\u001b[38;5;241m=\u001b[39mWHITESPACE\u001b[38;5;241m.\u001b[39mmatch):\n\u001b[0;32m    333\u001b[0m     \u001b[38;5;124;03m\"\"\"Return the Python representation of ``s`` (a ``str`` instance\u001b[39;00m\n\u001b[0;32m    334\u001b[0m \u001b[38;5;124;03m    containing a JSON document).\u001b[39;00m\n\u001b[0;32m    335\u001b[0m \n\u001b[0;32m    336\u001b[0m \u001b[38;5;124;03m    \"\"\"\u001b[39;00m\n\u001b[1;32m--> 337\u001b[0m     obj, end \u001b[38;5;241m=\u001b[39m \u001b[38;5;28;43mself\u001b[39;49m\u001b[38;5;241;43m.\u001b[39;49m\u001b[43mraw_decode\u001b[49m\u001b[43m(\u001b[49m\u001b[43ms\u001b[49m\u001b[43m,\u001b[49m\u001b[43m \u001b[49m\u001b[43midx\u001b[49m\u001b[38;5;241;43m=\u001b[39;49m\u001b[43m_w\u001b[49m\u001b[43m(\u001b[49m\u001b[43ms\u001b[49m\u001b[43m,\u001b[49m\u001b[43m \u001b[49m\u001b[38;5;241;43m0\u001b[39;49m\u001b[43m)\u001b[49m\u001b[38;5;241;43m.\u001b[39;49m\u001b[43mend\u001b[49m\u001b[43m(\u001b[49m\u001b[43m)\u001b[49m\u001b[43m)\u001b[49m\n\u001b[0;32m    338\u001b[0m     end \u001b[38;5;241m=\u001b[39m _w(s, end)\u001b[38;5;241m.\u001b[39mend()\n\u001b[0;32m    339\u001b[0m     \u001b[38;5;28;01mif\u001b[39;00m end \u001b[38;5;241m!=\u001b[39m \u001b[38;5;28mlen\u001b[39m(s):\n",
      "File \u001b[1;32m~\\anaconda3\\envs\\dojo-env\\lib\\json\\decoder.py:353\u001b[0m, in \u001b[0;36mJSONDecoder.raw_decode\u001b[1;34m(self, s, idx)\u001b[0m\n\u001b[0;32m    344\u001b[0m \u001b[38;5;124;03m\"\"\"Decode a JSON document from ``s`` (a ``str`` beginning with\u001b[39;00m\n\u001b[0;32m    345\u001b[0m \u001b[38;5;124;03ma JSON document) and return a 2-tuple of the Python\u001b[39;00m\n\u001b[0;32m    346\u001b[0m \u001b[38;5;124;03mrepresentation and the index in ``s`` where the document ended.\u001b[39;00m\n\u001b[1;32m   (...)\u001b[0m\n\u001b[0;32m    350\u001b[0m \n\u001b[0;32m    351\u001b[0m \u001b[38;5;124;03m\"\"\"\u001b[39;00m\n\u001b[0;32m    352\u001b[0m \u001b[38;5;28;01mtry\u001b[39;00m:\n\u001b[1;32m--> 353\u001b[0m     obj, end \u001b[38;5;241m=\u001b[39m \u001b[38;5;28;43mself\u001b[39;49m\u001b[38;5;241;43m.\u001b[39;49m\u001b[43mscan_once\u001b[49m\u001b[43m(\u001b[49m\u001b[43ms\u001b[49m\u001b[43m,\u001b[49m\u001b[43m \u001b[49m\u001b[43midx\u001b[49m\u001b[43m)\u001b[49m\n\u001b[0;32m    354\u001b[0m \u001b[38;5;28;01mexcept\u001b[39;00m \u001b[38;5;167;01mStopIteration\u001b[39;00m \u001b[38;5;28;01mas\u001b[39;00m err:\n\u001b[0;32m    355\u001b[0m     \u001b[38;5;28;01mraise\u001b[39;00m JSONDecodeError(\u001b[38;5;124m\"\u001b[39m\u001b[38;5;124mExpecting value\u001b[39m\u001b[38;5;124m\"\u001b[39m, s, err\u001b[38;5;241m.\u001b[39mvalue) \u001b[38;5;28;01mfrom\u001b[39;00m \u001b[38;5;28mNone\u001b[39m\n",
      "\u001b[1;31mJSONDecodeError\u001b[0m: Expecting property name enclosed in double quotes: line 1 column 2 (char 1)"
     ]
    }
   ],
   "source": [
    "## Use json.loads on the test coordinate\n",
    "json.loads(test_coord)"
   ]
  },
  {
   "cell_type": "markdown",
   "id": "89771042",
   "metadata": {},
   "source": [
    "- JSON requires double quotes!"
   ]
  },
  {
   "cell_type": "code",
   "execution_count": 11,
   "id": "25a459c3",
   "metadata": {},
   "outputs": [
    {
     "data": {
      "text/plain": [
       "'{\"latitude\": 34.8228218820722, \"longitude\": -82.3000437297499}'"
      ]
     },
     "execution_count": 11,
     "metadata": {},
     "output_type": "execute_result"
    }
   ],
   "source": [
    "## replace single ' with \" \n",
    "## use .str.replace to replace all single quotes\n",
    "test_coord = test_coord.replace(\"'\",'\"')\n",
    "test_coord"
   ]
  },
  {
   "cell_type": "code",
   "execution_count": 12,
   "id": "baf7b4ce",
   "metadata": {},
   "outputs": [
    {
     "data": {
      "text/plain": [
       "{'latitude': 34.8228218820722, 'longitude': -82.3000437297499}"
      ]
     },
     "execution_count": 12,
     "metadata": {},
     "output_type": "execute_result"
    }
   ],
   "source": [
    "## Use json.loads on the test coordinate, again\n",
    "json.loads(test_coord)"
   ]
  },
  {
   "cell_type": "markdown",
   "id": "ac9a2c61",
   "metadata": {},
   "source": [
    "### Now, how can we apply this same process to the entire column??"
   ]
  },
  {
   "cell_type": "code",
   "execution_count": 17,
   "id": "815d26be",
   "metadata": {},
   "outputs": [
    {
     "ename": "TypeError",
     "evalue": "the JSON object must be str, bytes or bytearray, not float",
     "output_type": "error",
     "traceback": [
      "\u001b[1;31m---------------------------------------------------------------------------\u001b[0m",
      "\u001b[1;31mTypeError\u001b[0m                                 Traceback (most recent call last)",
      "Input \u001b[1;32mIn [17]\u001b[0m, in \u001b[0;36m<cell line: 7>\u001b[1;34m()\u001b[0m\n\u001b[0;32m      5\u001b[0m df[\u001b[38;5;124m'\u001b[39m\u001b[38;5;124mcoordinates\u001b[39m\u001b[38;5;124m'\u001b[39m] \u001b[38;5;241m=\u001b[39m df[\u001b[38;5;124m'\u001b[39m\u001b[38;5;124mcoordinates\u001b[39m\u001b[38;5;124m'\u001b[39m]\u001b[38;5;241m.\u001b[39mreplace(\u001b[38;5;124m\"\u001b[39m\u001b[38;5;124m'\u001b[39m\u001b[38;5;124m\"\u001b[39m,\u001b[38;5;124m'\u001b[39m\u001b[38;5;124m\"\u001b[39m\u001b[38;5;124m'\u001b[39m)\n\u001b[0;32m      6\u001b[0m \u001b[38;5;66;03m## Apply the json.loads to the full column\u001b[39;00m\n\u001b[1;32m----> 7\u001b[0m df[\u001b[38;5;124m'\u001b[39m\u001b[38;5;124mcoordinates\u001b[39m\u001b[38;5;124m'\u001b[39m] \u001b[38;5;241m=\u001b[39m \u001b[43mdf\u001b[49m\u001b[43m[\u001b[49m\u001b[38;5;124;43m'\u001b[39;49m\u001b[38;5;124;43mcoordinates\u001b[39;49m\u001b[38;5;124;43m'\u001b[39;49m\u001b[43m]\u001b[49m\u001b[38;5;241;43m.\u001b[39;49m\u001b[43mapply\u001b[49m\u001b[43m(\u001b[49m\u001b[43mjson\u001b[49m\u001b[38;5;241;43m.\u001b[39;49m\u001b[43mloads\u001b[49m\u001b[43m)\u001b[49m\n\u001b[0;32m      8\u001b[0m df[\u001b[38;5;124m'\u001b[39m\u001b[38;5;124mcoordinates\u001b[39m\u001b[38;5;124m'\u001b[39m]\u001b[38;5;241m.\u001b[39mhead()\n",
      "File \u001b[1;32m~\\anaconda3\\envs\\dojo-env\\lib\\site-packages\\pandas\\core\\series.py:4433\u001b[0m, in \u001b[0;36mSeries.apply\u001b[1;34m(self, func, convert_dtype, args, **kwargs)\u001b[0m\n\u001b[0;32m   4323\u001b[0m \u001b[38;5;28;01mdef\u001b[39;00m \u001b[38;5;21mapply\u001b[39m(\n\u001b[0;32m   4324\u001b[0m     \u001b[38;5;28mself\u001b[39m,\n\u001b[0;32m   4325\u001b[0m     func: AggFuncType,\n\u001b[1;32m   (...)\u001b[0m\n\u001b[0;32m   4328\u001b[0m     \u001b[38;5;241m*\u001b[39m\u001b[38;5;241m*\u001b[39mkwargs,\n\u001b[0;32m   4329\u001b[0m ) \u001b[38;5;241m-\u001b[39m\u001b[38;5;241m>\u001b[39m DataFrame \u001b[38;5;241m|\u001b[39m Series:\n\u001b[0;32m   4330\u001b[0m     \u001b[38;5;124;03m\"\"\"\u001b[39;00m\n\u001b[0;32m   4331\u001b[0m \u001b[38;5;124;03m    Invoke function on values of Series.\u001b[39;00m\n\u001b[0;32m   4332\u001b[0m \n\u001b[1;32m   (...)\u001b[0m\n\u001b[0;32m   4431\u001b[0m \u001b[38;5;124;03m    dtype: float64\u001b[39;00m\n\u001b[0;32m   4432\u001b[0m \u001b[38;5;124;03m    \"\"\"\u001b[39;00m\n\u001b[1;32m-> 4433\u001b[0m     \u001b[38;5;28;01mreturn\u001b[39;00m \u001b[43mSeriesApply\u001b[49m\u001b[43m(\u001b[49m\u001b[38;5;28;43mself\u001b[39;49m\u001b[43m,\u001b[49m\u001b[43m \u001b[49m\u001b[43mfunc\u001b[49m\u001b[43m,\u001b[49m\u001b[43m \u001b[49m\u001b[43mconvert_dtype\u001b[49m\u001b[43m,\u001b[49m\u001b[43m \u001b[49m\u001b[43margs\u001b[49m\u001b[43m,\u001b[49m\u001b[43m \u001b[49m\u001b[43mkwargs\u001b[49m\u001b[43m)\u001b[49m\u001b[38;5;241;43m.\u001b[39;49m\u001b[43mapply\u001b[49m\u001b[43m(\u001b[49m\u001b[43m)\u001b[49m\n",
      "File \u001b[1;32m~\\anaconda3\\envs\\dojo-env\\lib\\site-packages\\pandas\\core\\apply.py:1082\u001b[0m, in \u001b[0;36mSeriesApply.apply\u001b[1;34m(self)\u001b[0m\n\u001b[0;32m   1078\u001b[0m \u001b[38;5;28;01mif\u001b[39;00m \u001b[38;5;28misinstance\u001b[39m(\u001b[38;5;28mself\u001b[39m\u001b[38;5;241m.\u001b[39mf, \u001b[38;5;28mstr\u001b[39m):\n\u001b[0;32m   1079\u001b[0m     \u001b[38;5;66;03m# if we are a string, try to dispatch\u001b[39;00m\n\u001b[0;32m   1080\u001b[0m     \u001b[38;5;28;01mreturn\u001b[39;00m \u001b[38;5;28mself\u001b[39m\u001b[38;5;241m.\u001b[39mapply_str()\n\u001b[1;32m-> 1082\u001b[0m \u001b[38;5;28;01mreturn\u001b[39;00m \u001b[38;5;28;43mself\u001b[39;49m\u001b[38;5;241;43m.\u001b[39;49m\u001b[43mapply_standard\u001b[49m\u001b[43m(\u001b[49m\u001b[43m)\u001b[49m\n",
      "File \u001b[1;32m~\\anaconda3\\envs\\dojo-env\\lib\\site-packages\\pandas\\core\\apply.py:1137\u001b[0m, in \u001b[0;36mSeriesApply.apply_standard\u001b[1;34m(self)\u001b[0m\n\u001b[0;32m   1131\u001b[0m         values \u001b[38;5;241m=\u001b[39m obj\u001b[38;5;241m.\u001b[39mastype(\u001b[38;5;28mobject\u001b[39m)\u001b[38;5;241m.\u001b[39m_values\n\u001b[0;32m   1132\u001b[0m         \u001b[38;5;66;03m# error: Argument 2 to \"map_infer\" has incompatible type\u001b[39;00m\n\u001b[0;32m   1133\u001b[0m         \u001b[38;5;66;03m# \"Union[Callable[..., Any], str, List[Union[Callable[..., Any], str]],\u001b[39;00m\n\u001b[0;32m   1134\u001b[0m         \u001b[38;5;66;03m# Dict[Hashable, Union[Union[Callable[..., Any], str],\u001b[39;00m\n\u001b[0;32m   1135\u001b[0m         \u001b[38;5;66;03m# List[Union[Callable[..., Any], str]]]]]\"; expected\u001b[39;00m\n\u001b[0;32m   1136\u001b[0m         \u001b[38;5;66;03m# \"Callable[[Any], Any]\"\u001b[39;00m\n\u001b[1;32m-> 1137\u001b[0m         mapped \u001b[38;5;241m=\u001b[39m \u001b[43mlib\u001b[49m\u001b[38;5;241;43m.\u001b[39;49m\u001b[43mmap_infer\u001b[49m\u001b[43m(\u001b[49m\n\u001b[0;32m   1138\u001b[0m \u001b[43m            \u001b[49m\u001b[43mvalues\u001b[49m\u001b[43m,\u001b[49m\n\u001b[0;32m   1139\u001b[0m \u001b[43m            \u001b[49m\u001b[43mf\u001b[49m\u001b[43m,\u001b[49m\u001b[43m  \u001b[49m\u001b[38;5;66;43;03m# type: ignore[arg-type]\u001b[39;49;00m\n\u001b[0;32m   1140\u001b[0m \u001b[43m            \u001b[49m\u001b[43mconvert\u001b[49m\u001b[38;5;241;43m=\u001b[39;49m\u001b[38;5;28;43mself\u001b[39;49m\u001b[38;5;241;43m.\u001b[39;49m\u001b[43mconvert_dtype\u001b[49m\u001b[43m,\u001b[49m\n\u001b[0;32m   1141\u001b[0m \u001b[43m        \u001b[49m\u001b[43m)\u001b[49m\n\u001b[0;32m   1143\u001b[0m \u001b[38;5;28;01mif\u001b[39;00m \u001b[38;5;28mlen\u001b[39m(mapped) \u001b[38;5;129;01mand\u001b[39;00m \u001b[38;5;28misinstance\u001b[39m(mapped[\u001b[38;5;241m0\u001b[39m], ABCSeries):\n\u001b[0;32m   1144\u001b[0m     \u001b[38;5;66;03m# GH#43986 Need to do list(mapped) in order to get treated as nested\u001b[39;00m\n\u001b[0;32m   1145\u001b[0m     \u001b[38;5;66;03m#  See also GH#25959 regarding EA support\u001b[39;00m\n\u001b[0;32m   1146\u001b[0m     \u001b[38;5;28;01mreturn\u001b[39;00m obj\u001b[38;5;241m.\u001b[39m_constructor_expanddim(\u001b[38;5;28mlist\u001b[39m(mapped), index\u001b[38;5;241m=\u001b[39mobj\u001b[38;5;241m.\u001b[39mindex)\n",
      "File \u001b[1;32m~\\anaconda3\\envs\\dojo-env\\lib\\site-packages\\pandas\\_libs\\lib.pyx:2870\u001b[0m, in \u001b[0;36mpandas._libs.lib.map_infer\u001b[1;34m()\u001b[0m\n",
      "File \u001b[1;32m~\\anaconda3\\envs\\dojo-env\\lib\\json\\__init__.py:341\u001b[0m, in \u001b[0;36mloads\u001b[1;34m(s, cls, object_hook, parse_float, parse_int, parse_constant, object_pairs_hook, **kw)\u001b[0m\n\u001b[0;32m    339\u001b[0m \u001b[38;5;28;01melse\u001b[39;00m:\n\u001b[0;32m    340\u001b[0m     \u001b[38;5;28;01mif\u001b[39;00m \u001b[38;5;129;01mnot\u001b[39;00m \u001b[38;5;28misinstance\u001b[39m(s, (\u001b[38;5;28mbytes\u001b[39m, \u001b[38;5;28mbytearray\u001b[39m)):\n\u001b[1;32m--> 341\u001b[0m         \u001b[38;5;28;01mraise\u001b[39;00m \u001b[38;5;167;01mTypeError\u001b[39;00m(\u001b[38;5;124mf\u001b[39m\u001b[38;5;124m'\u001b[39m\u001b[38;5;124mthe JSON object must be str, bytes or bytearray, \u001b[39m\u001b[38;5;124m'\u001b[39m\n\u001b[0;32m    342\u001b[0m                         \u001b[38;5;124mf\u001b[39m\u001b[38;5;124m'\u001b[39m\u001b[38;5;124mnot \u001b[39m\u001b[38;5;132;01m{\u001b[39;00ms\u001b[38;5;241m.\u001b[39m\u001b[38;5;18m__class__\u001b[39m\u001b[38;5;241m.\u001b[39m\u001b[38;5;18m__name__\u001b[39m\u001b[38;5;132;01m}\u001b[39;00m\u001b[38;5;124m'\u001b[39m)\n\u001b[0;32m    343\u001b[0m     s \u001b[38;5;241m=\u001b[39m s\u001b[38;5;241m.\u001b[39mdecode(detect_encoding(s), \u001b[38;5;124m'\u001b[39m\u001b[38;5;124msurrogatepass\u001b[39m\u001b[38;5;124m'\u001b[39m)\n\u001b[0;32m    345\u001b[0m \u001b[38;5;28;01mif\u001b[39;00m \u001b[38;5;124m\"\u001b[39m\u001b[38;5;124mencoding\u001b[39m\u001b[38;5;124m\"\u001b[39m \u001b[38;5;129;01min\u001b[39;00m kw:\n",
      "\u001b[1;31mTypeError\u001b[0m: the JSON object must be str, bytes or bytearray, not float"
     ]
    }
   ],
   "source": [
    "## replace ' with \" (entire column)\n",
    "\n",
    "## apply json.loads\n",
    "## use .str.replace to replace all single quotes\n",
    "df['coordinates'] = df['coordinates'].str.replace(\"'\",'\"')\n",
    "## Apply the json.loads to the full column\n",
    "df['coordinates'] = df['coordinates'].apply(json.loads)\n",
    "df['coordinates'].head()"
   ]
  },
  {
   "cell_type": "code",
   "execution_count": null,
   "id": "b417c990",
   "metadata": {},
   "outputs": [],
   "source": [
    "## slice out a single test coordinate\n"
   ]
  },
  {
   "cell_type": "markdown",
   "id": "a825c2f4",
   "metadata": {},
   "source": [
    "### Using Apply with pd.Series to convert a dictionary column into multiple columns"
   ]
  },
  {
   "cell_type": "code",
   "execution_count": 18,
   "id": "9b06ad2c",
   "metadata": {},
   "outputs": [
    {
     "data": {
      "text/html": [
       "<div>\n",
       "<style scoped>\n",
       "    .dataframe tbody tr th:only-of-type {\n",
       "        vertical-align: middle;\n",
       "    }\n",
       "\n",
       "    .dataframe tbody tr th {\n",
       "        vertical-align: top;\n",
       "    }\n",
       "\n",
       "    .dataframe thead th {\n",
       "        text-align: right;\n",
       "    }\n",
       "</style>\n",
       "<table border=\"1\" class=\"dataframe\">\n",
       "  <thead>\n",
       "    <tr style=\"text-align: right;\">\n",
       "      <th></th>\n",
       "      <th>0</th>\n",
       "    </tr>\n",
       "  </thead>\n",
       "  <tbody>\n",
       "    <tr>\n",
       "      <th>0</th>\n",
       "      <td>NaN</td>\n",
       "    </tr>\n",
       "    <tr>\n",
       "      <th>1</th>\n",
       "      <td>NaN</td>\n",
       "    </tr>\n",
       "    <tr>\n",
       "      <th>2</th>\n",
       "      <td>NaN</td>\n",
       "    </tr>\n",
       "    <tr>\n",
       "      <th>3</th>\n",
       "      <td>NaN</td>\n",
       "    </tr>\n",
       "    <tr>\n",
       "      <th>4</th>\n",
       "      <td>NaN</td>\n",
       "    </tr>\n",
       "    <tr>\n",
       "      <th>...</th>\n",
       "      <td>...</td>\n",
       "    </tr>\n",
       "    <tr>\n",
       "      <th>94</th>\n",
       "      <td>NaN</td>\n",
       "    </tr>\n",
       "    <tr>\n",
       "      <th>95</th>\n",
       "      <td>NaN</td>\n",
       "    </tr>\n",
       "    <tr>\n",
       "      <th>96</th>\n",
       "      <td>NaN</td>\n",
       "    </tr>\n",
       "    <tr>\n",
       "      <th>97</th>\n",
       "      <td>NaN</td>\n",
       "    </tr>\n",
       "    <tr>\n",
       "      <th>98</th>\n",
       "      <td>NaN</td>\n",
       "    </tr>\n",
       "  </tbody>\n",
       "</table>\n",
       "<p>99 rows × 1 columns</p>\n",
       "</div>"
      ],
      "text/plain": [
       "     0\n",
       "0  NaN\n",
       "1  NaN\n",
       "2  NaN\n",
       "3  NaN\n",
       "4  NaN\n",
       "..  ..\n",
       "94 NaN\n",
       "95 NaN\n",
       "96 NaN\n",
       "97 NaN\n",
       "98 NaN\n",
       "\n",
       "[99 rows x 1 columns]"
      ]
     },
     "execution_count": 18,
     "metadata": {},
     "output_type": "execute_result"
    }
   ],
   "source": [
    "## use .apply pd.Series to convert a dict to columns\n",
    "df['coordinates'].apply(pd.Series)"
   ]
  },
  {
   "cell_type": "code",
   "execution_count": 19,
   "id": "a09d00b1",
   "metadata": {},
   "outputs": [
    {
     "data": {
      "text/plain": [
       "pandas.core.series.Series"
      ]
     },
     "execution_count": 19,
     "metadata": {},
     "output_type": "execute_result"
    }
   ],
   "source": [
    "## Concatenate the 2 new columns and drop the original.\n",
    "type(df['coordinates'])"
   ]
  },
  {
   "cell_type": "code",
   "execution_count": 29,
   "id": "70b06e60",
   "metadata": {},
   "outputs": [
    {
     "data": {
      "text/html": [
       "<div>\n",
       "<style scoped>\n",
       "    .dataframe tbody tr th:only-of-type {\n",
       "        vertical-align: middle;\n",
       "    }\n",
       "\n",
       "    .dataframe tbody tr th {\n",
       "        vertical-align: top;\n",
       "    }\n",
       "\n",
       "    .dataframe thead th {\n",
       "        text-align: right;\n",
       "    }\n",
       "</style>\n",
       "<table border=\"1\" class=\"dataframe\">\n",
       "  <thead>\n",
       "    <tr style=\"text-align: right;\">\n",
       "      <th></th>\n",
       "      <th>latitude</th>\n",
       "      <th>longitude</th>\n",
       "    </tr>\n",
       "  </thead>\n",
       "  <tbody>\n",
       "    <tr>\n",
       "      <th>0</th>\n",
       "      <td>34.851273</td>\n",
       "      <td>-82.231812</td>\n",
       "    </tr>\n",
       "    <tr>\n",
       "      <th>1</th>\n",
       "      <td>34.845952</td>\n",
       "      <td>-82.403445</td>\n",
       "    </tr>\n",
       "    <tr>\n",
       "      <th>2</th>\n",
       "      <td>34.822822</td>\n",
       "      <td>-82.300044</td>\n",
       "    </tr>\n",
       "    <tr>\n",
       "      <th>3</th>\n",
       "      <td>34.820950</td>\n",
       "      <td>-82.257880</td>\n",
       "    </tr>\n",
       "    <tr>\n",
       "      <th>4</th>\n",
       "      <td>34.850666</td>\n",
       "      <td>-82.399203</td>\n",
       "    </tr>\n",
       "    <tr>\n",
       "      <th>...</th>\n",
       "      <td>...</td>\n",
       "      <td>...</td>\n",
       "    </tr>\n",
       "    <tr>\n",
       "      <th>94</th>\n",
       "      <td>34.849917</td>\n",
       "      <td>-82.333593</td>\n",
       "    </tr>\n",
       "    <tr>\n",
       "      <th>95</th>\n",
       "      <td>34.697057</td>\n",
       "      <td>-82.396389</td>\n",
       "    </tr>\n",
       "    <tr>\n",
       "      <th>96</th>\n",
       "      <td>34.818624</td>\n",
       "      <td>-82.255452</td>\n",
       "    </tr>\n",
       "    <tr>\n",
       "      <th>97</th>\n",
       "      <td>34.861492</td>\n",
       "      <td>-82.268220</td>\n",
       "    </tr>\n",
       "    <tr>\n",
       "      <th>98</th>\n",
       "      <td>34.827974</td>\n",
       "      <td>-82.398701</td>\n",
       "    </tr>\n",
       "  </tbody>\n",
       "</table>\n",
       "<p>99 rows × 2 columns</p>\n",
       "</div>"
      ],
      "text/plain": [
       "     latitude  longitude\n",
       "0   34.851273 -82.231812\n",
       "1   34.845952 -82.403445\n",
       "2   34.822822 -82.300044\n",
       "3   34.820950 -82.257880\n",
       "4   34.850666 -82.399203\n",
       "..        ...        ...\n",
       "94  34.849917 -82.333593\n",
       "95  34.697057 -82.396389\n",
       "96  34.818624 -82.255452\n",
       "97  34.861492 -82.268220\n",
       "98  34.827974 -82.398701\n",
       "\n",
       "[99 rows x 2 columns]"
      ]
     },
     "execution_count": 29,
     "metadata": {},
     "output_type": "execute_result"
    }
   ],
   "source": [
    " df['coordinates'].apply(lambda x:pd.Series(json.loads((x.replace(\"'\",'\"')))))"
   ]
  },
  {
   "cell_type": "code",
   "execution_count": null,
   "id": "d595656a",
   "metadata": {},
   "outputs": [],
   "source": [
    "df = pd.concat(df.drop(columns = ['']))"
   ]
  },
  {
   "cell_type": "markdown",
   "id": "56b25f7a",
   "metadata": {},
   "source": [
    "## Creating a Simple Map"
   ]
  },
  {
   "cell_type": "markdown",
   "id": "cd5bc110",
   "metadata": {},
   "source": [
    "### Register for MapBox API"
   ]
  },
  {
   "cell_type": "markdown",
   "id": "73c91d8f",
   "metadata": {},
   "source": [
    "Mapbox API: https://www.mapbox.com/"
   ]
  },
  {
   "cell_type": "code",
   "execution_count": null,
   "id": "2e9b4e94",
   "metadata": {},
   "outputs": [],
   "source": [
    "## Load in mapbox api credentials from .secret\n"
   ]
  },
  {
   "cell_type": "markdown",
   "id": "cdb5689c",
   "metadata": {},
   "source": [
    "- Use the plotly express `set_maptbox_acccess_token` function"
   ]
  },
  {
   "cell_type": "code",
   "execution_count": null,
   "id": "7bf3a1c1",
   "metadata": {},
   "outputs": [],
   "source": [
    "## set mapbox token\n"
   ]
  },
  {
   "cell_type": "code",
   "execution_count": null,
   "id": "2214befe",
   "metadata": {},
   "outputs": [],
   "source": [
    "## use scatter_mapbox for M.V.P map\n"
   ]
  },
  {
   "cell_type": "markdown",
   "id": "d5b72ef0",
   "metadata": {},
   "source": [
    "### Adding Hover Data"
   ]
  },
  {
   "cell_type": "markdown",
   "id": "300eddca",
   "metadata": {},
   "source": [
    "- We want to show the restaurants:\n",
    "    - name\n",
    "    - price range\n",
    "    - address\n",
    "    - and if they do delivery or takeout.\n",
    "    \n",
    "    \n",
    "- We can use the `hover_name` and `hover_data` arguments for `px.scatter_mapbox` to add this info!"
   ]
  },
  {
   "cell_type": "code",
   "execution_count": null,
   "id": "46a7ef9e",
   "metadata": {},
   "outputs": [],
   "source": []
  },
  {
   "cell_type": "code",
   "execution_count": null,
   "id": "e05e4e1b",
   "metadata": {
    "scrolled": true
   },
   "outputs": [],
   "source": [
    "## add hover_name (name) and hover_data for price,rating,location\n"
   ]
  },
  {
   "cell_type": "markdown",
   "id": "09d744ca",
   "metadata": {},
   "source": [
    "### Fixing the Location Column"
   ]
  },
  {
   "cell_type": "code",
   "execution_count": null,
   "id": "15e6afdc",
   "metadata": {},
   "outputs": [],
   "source": [
    "## slice out a test address\n"
   ]
  },
  {
   "cell_type": "markdown",
   "id": "b573de0f",
   "metadata": {},
   "source": [
    "> Also a string-dictionary..."
   ]
  },
  {
   "cell_type": "code",
   "execution_count": null,
   "id": "e5862a23",
   "metadata": {},
   "outputs": [],
   "source": [
    "## replace ' with \"\n",
    "df['location'] = df['location'].str.replace(\"'\", '\"')\n",
    "df"
   ]
  },
  {
   "cell_type": "code",
   "execution_count": null,
   "id": "1606ed4a",
   "metadata": {},
   "outputs": [],
   "source": [
    "## apply json.loads\n"
   ]
  },
  {
   "cell_type": "markdown",
   "id": "6e3fc5c2",
   "metadata": {},
   "source": [
    "> Ruh roh....\n",
    "\n",
    "- Hmm, let's slice out a test_address again and let's write a function to accomplish this instead.\n",
    "    - We can use try and except in our function to get around the errors."
   ]
  },
  {
   "cell_type": "markdown",
   "id": "b0fe3a7a",
   "metadata": {},
   "source": [
    "### Fixing Addresses - with a custom function\n"
   ]
  },
  {
   "cell_type": "code",
   "execution_count": null,
   "id": "b1964520",
   "metadata": {},
   "outputs": [],
   "source": [
    "## slice out test address \n",
    "test_addr = df.loc[0, 'location']\n",
    "test_addr"
   ]
  },
  {
   "cell_type": "code",
   "execution_count": null,
   "id": "89ee686e",
   "metadata": {},
   "outputs": [],
   "source": [
    "## write a function to just run json.loads on the address\n"
   ]
  },
  {
   "cell_type": "code",
   "execution_count": null,
   "id": "0d25f01b",
   "metadata": {},
   "outputs": [],
   "source": [
    "## test applying our function\n"
   ]
  },
  {
   "cell_type": "markdown",
   "id": "c8cbc436",
   "metadata": {},
   "source": [
    "- It worked! Now let's save this as a new column (display_location),\n",
    "and then let's investigate the businesses that had an \"ERROR\"."
   ]
  },
  {
   "cell_type": "code",
   "execution_count": null,
   "id": "49a511e8",
   "metadata": {},
   "outputs": [],
   "source": [
    "### save a new display_location column using our function\n"
   ]
  },
  {
   "cell_type": "code",
   "execution_count": null,
   "id": "346a2869",
   "metadata": {},
   "outputs": [],
   "source": [
    "## filter for businesses with display_location == \"ERROR\"\n"
   ]
  },
  {
   "cell_type": "code",
   "execution_count": null,
   "id": "9c115199",
   "metadata": {},
   "outputs": [],
   "source": [
    "## slice out a new test address and inspect\n",
    "test_addr = df.loc[437, 'location']\n",
    "test_addr"
   ]
  },
  {
   "cell_type": "markdown",
   "id": "448fa8c6",
   "metadata": {},
   "source": [
    "> After some more investigation, we would find a few issues with these \"ERROR\" rows.\n",
    "1. They contained None.\n",
    "2. They contained an apostrophe in the name.\n",
    "3. ...?"
   ]
  },
  {
   "cell_type": "markdown",
   "id": "68a960d4",
   "metadata": {},
   "source": [
    "### Possible Fixes (if we care to/have the time)\n"
   ]
  },
  {
   "cell_type": "markdown",
   "id": "7c21eda1",
   "metadata": {},
   "source": [
    "- Use Regular Expressions to find an fix the display addresses with \"'\" in them\n",
    "- Use string split to split on the word display address.\n",
    "    - Then use string methods to clean up"
   ]
  },
  {
   "cell_type": "markdown",
   "id": "df8d68fb",
   "metadata": {},
   "source": [
    "### Moving Forward without those rows (for now)"
   ]
  },
  {
   "cell_type": "code",
   "execution_count": null,
   "id": "bddbcc87",
   "metadata": {},
   "outputs": [],
   "source": [
    "## remove any rows where display_location == 'ERROR'\n"
   ]
  },
  {
   "cell_type": "markdown",
   "id": "c1338cd2",
   "metadata": {},
   "source": [
    "- We want the \"display_address\" key from the \"display_location\" dictionaries.\n",
    "- We could use a .apply and a lamda to slice out the desired key."
   ]
  },
  {
   "cell_type": "code",
   "execution_count": null,
   "id": "82544b10",
   "metadata": {},
   "outputs": [],
   "source": [
    "## use apply and lambda to slice correct key\n"
   ]
  },
  {
   "cell_type": "markdown",
   "id": "c65a79ab",
   "metadata": {},
   "source": [
    "- Almost done! We want to convert display_address to a string instead a list of strings.\n",
    "- We can use the string method .join to do so!"
   ]
  },
  {
   "cell_type": "code",
   "execution_count": null,
   "id": "5f64f1dd",
   "metadata": {},
   "outputs": [],
   "source": [
    "## slice out a test_address\n"
   ]
  },
  {
   "cell_type": "code",
   "execution_count": null,
   "id": "876bb98e",
   "metadata": {},
   "outputs": [],
   "source": [
    "## test using .join with a \"\\n\"\n"
   ]
  },
  {
   "cell_type": "code",
   "execution_count": null,
   "id": "55a6176d",
   "metadata": {
    "scrolled": true
   },
   "outputs": [],
   "source": [
    "## apply the join to every row with a lambda\n"
   ]
  },
  {
   "cell_type": "markdown",
   "id": "09b90087",
   "metadata": {},
   "source": [
    "### Final Map"
   ]
  },
  {
   "cell_type": "code",
   "execution_count": null,
   "id": "0afd236d",
   "metadata": {},
   "outputs": [],
   "source": [
    "## make ourn final map and save as varaible\n"
   ]
  },
  {
   "cell_type": "markdown",
   "id": "47e93ee3",
   "metadata": {},
   "source": [
    "#### HTML Uses `<br>` instead of `\\n`"
   ]
  },
  {
   "cell_type": "code",
   "execution_count": null,
   "id": "d2758626",
   "metadata": {},
   "outputs": [],
   "source": [
    "## remake the final address column with <br> instead \n",
    "\n",
    "## plot the final map"
   ]
  },
  {
   "cell_type": "code",
   "execution_count": null,
   "id": "79e43699",
   "metadata": {},
   "outputs": [],
   "source": [
    "## use fig.write_html to save map\n"
   ]
  }
 ],
 "metadata": {
  "kernelspec": {
   "display_name": "Python (dojo-env)",
   "language": "python",
   "name": "dojo-env"
  },
  "language_info": {
   "codemirror_mode": {
    "name": "ipython",
    "version": 3
   },
   "file_extension": ".py",
   "mimetype": "text/x-python",
   "name": "python",
   "nbconvert_exporter": "python",
   "pygments_lexer": "ipython3",
   "version": "3.8.13"
  },
  "toc": {
   "base_numbering": 1,
   "nav_menu": {},
   "number_sections": false,
   "sideBar": true,
   "skip_h1_title": false,
   "title_cell": "Table of Contents",
   "title_sidebar": "Contents",
   "toc_cell": false,
   "toc_position": {
    "height": "calc(100% - 180px)",
    "left": "10px",
    "top": "150px",
    "width": "299.195px"
   },
   "toc_section_display": true,
   "toc_window_display": true
  }
 },
 "nbformat": 4,
 "nbformat_minor": 5
}
